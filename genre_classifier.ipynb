{
 "cells": [
  {
   "cell_type": "code",
   "execution_count": 3,
   "id": "095ab4e3-45c3-4590-b601-0a6ddbdd103b",
   "metadata": {},
   "outputs": [
    {
     "name": "stdout",
     "output_type": "stream",
     "text": [
      "✅ Loaded 54214 training plots.\n",
      "Example:\n",
      " Listening in to a conversation between his doctor and parents, 10-year-old Oscar learns what nobody has the courage to tell him. He only has a few weeks to live. Furious, he refuses to speak to anyone except straight-talking Rose, the lady in pink he meets on the hospital stairs. As Christmas approaches, Rose uses her fantastical experiences as a professional wrestler, her imagination, wit and charm to allow Oscar to live life and love to the full, in the company of his friends Pop Corn, Einstein, Bacon and childhood sweetheart Peggy Blue. \n",
      "=> Genre: drama\n"
     ]
    }
   ],
   "source": [
    "#Load the Training Data\n",
    "train_texts = []\n",
    "train_labels = []\n",
    "\n",
    "with open(\"train_data.txt\", \"r\", encoding=\"utf-8\") as file:\n",
    "    for line in file:\n",
    "        # Split using \" ::: \" which separates the columns\n",
    "        parts = line.strip().split(\" ::: \")\n",
    "        if len(parts) == 4:\n",
    "            _, title, genre, plot = parts\n",
    "            train_labels.append(genre)\n",
    "            train_texts.append(plot)\n",
    "\n",
    "print(f\"✅ Loaded {len(train_texts)} training plots.\")\n",
    "print(\"Example:\\n\", train_texts[0], \"\\n=> Genre:\", train_labels[0])\n"
   ]
  },
  {
   "cell_type": "code",
   "execution_count": 5,
   "id": "4f3793ce-2ae3-4992-b9ff-97f0f923d89e",
   "metadata": {},
   "outputs": [
    {
     "name": "stdout",
     "output_type": "stream",
     "text": [
      "✅ Loaded 54200 test plots.\n",
      "Example test plot:\n",
      " L.R. Brane loves his life - his car, his apartment, his job, but especially his girlfriend, Vespa. One day while showering, Vespa runs out of shampoo. L.R. runs across the street to a convenience store to buy some more, a quick trip of no more than a few minutes. When he returns, Vespa is gone and every trace of her existence has been wiped out. L.R.'s life becomes a tortured existence as one strange event after another occurs to confirm in his mind that a conspiracy is working against his finding Vespa.\n"
     ]
    }
   ],
   "source": [
    "# Load the Test Data\n",
    "test_texts = []\n",
    "\n",
    "with open(\"test_data.txt\", \"r\", encoding=\"utf-8\") as file:\n",
    "    for line in file:\n",
    "        parts = line.strip().split(\" ::: \")\n",
    "        if len(parts) == 3:\n",
    "            _, title, plot = parts\n",
    "            test_texts.append(plot)\n",
    "\n",
    "print(f\"✅ Loaded {len(test_texts)} test plots.\")\n",
    "print(\"Example test plot:\\n\", test_texts[0])\n"
   ]
  },
  {
   "cell_type": "code",
   "execution_count": 6,
   "id": "26a11bd2-bf51-411b-9da8-58cc914763c2",
   "metadata": {},
   "outputs": [
    {
     "name": "stdout",
     "output_type": "stream",
     "text": [
      "✅ TF-IDF Vectorization done.\n",
      "Training data shape: (54214, 5000)\n",
      "Test data shape: (54200, 5000)\n"
     ]
    }
   ],
   "source": [
    "#Convert Text into Numbers using TF-IDF\n",
    "from sklearn.feature_extraction.text import TfidfVectorizer\n",
    "\n",
    "# Create the vectorizer\n",
    "vectorizer = TfidfVectorizer(stop_words='english', max_features=5000)\n",
    "\n",
    "# Convert training and test texts into numeric vectors\n",
    "X_train = vectorizer.fit_transform(train_texts)\n",
    "X_test = vectorizer.transform(test_texts)\n",
    "\n",
    "# Check the shape (how many rows and features)\n",
    "print(\"✅ TF-IDF Vectorization done.\")\n",
    "print(\"Training data shape:\", X_train.shape)\n",
    "print(\"Test data shape:\", X_test.shape)\n"
   ]
  },
  {
   "cell_type": "code",
   "execution_count": 7,
   "id": "5ec55024-115f-412c-97d1-e375f3508cce",
   "metadata": {},
   "outputs": [
    {
     "name": "stdout",
     "output_type": "stream",
     "text": [
      "✅ Genres converted to numbers.\n",
      "Genre classes: ['action', 'adult', 'adventure', 'animation', 'biography', 'comedy', 'crime', 'documentary', 'drama', 'family', 'fantasy', 'game-show', 'history', 'horror', 'music', 'musical', 'mystery', 'news', 'reality-tv', 'romance', 'sci-fi', 'short', 'sport', 'talk-show', 'thriller', 'war', 'western']\n"
     ]
    }
   ],
   "source": [
    "#Convert Genres to Numbers (Label Encoding)\n",
    "from sklearn.preprocessing import LabelEncoder\n",
    "\n",
    "# Convert genre labels to numbers\n",
    "label_encoder = LabelEncoder()\n",
    "y_train = label_encoder.fit_transform(train_labels)\n",
    "\n",
    "# Print to check what each number means\n",
    "print(\"✅ Genres converted to numbers.\")\n",
    "print(\"Genre classes:\", list(label_encoder.classes_))\n"
   ]
  },
  {
   "cell_type": "code",
   "execution_count": 9,
   "id": "08225303-47f8-44ee-88ac-55e60b10da62",
   "metadata": {},
   "outputs": [
    {
     "name": "stdout",
     "output_type": "stream",
     "text": [
      "✅ Model training complete.\n"
     ]
    }
   ],
   "source": [
    "#Train the Model\n",
    "from sklearn.linear_model import LogisticRegression\n",
    "\n",
    "# Create and train the model\n",
    "model = LogisticRegression(max_iter=1000)  # max_iter ensures it trains fully\n",
    "model.fit(X_train, y_train)\n",
    "\n",
    "print(\"✅ Model training complete.\")\n"
   ]
  },
  {
   "cell_type": "code",
   "execution_count": 10,
   "id": "792fab28-d143-43c6-8119-a9b3a280efd9",
   "metadata": {},
   "outputs": [
    {
     "name": "stdout",
     "output_type": "stream",
     "text": [
      "✅ Prediction complete.\n",
      "Example predictions: ['short' 'drama' 'documentary' 'drama' 'drama']\n"
     ]
    }
   ],
   "source": [
    "\n",
    "#Predict genres for test data\n",
    "y_pred = model.predict(X_test)\n",
    "\n",
    "# Convert the numeric predictions back to genre names\n",
    "predicted_genres = label_encoder.inverse_transform(y_pred)\n",
    "\n",
    "# Show first 5 predictions\n",
    "print(\"✅ Prediction complete.\")\n",
    "print(\"Example predictions:\", predicted_genres[:5])\n"
   ]
  },
  {
   "cell_type": "code",
   "execution_count": 11,
   "id": "c4a18c7a-02d5-4d74-acc4-7b318e349a82",
   "metadata": {},
   "outputs": [
    {
     "name": "stdout",
     "output_type": "stream",
     "text": [
      "✅ Predictions saved to predictions.txt\n"
     ]
    }
   ],
   "source": [
    "# Save predictions to a text file (one genre per line)\n",
    "with open(\"predictions.txt\", \"w\", encoding=\"utf-8\") as f:\n",
    "    for genre in predicted_genres:\n",
    "        f.write(genre + \"\\n\")\n",
    "\n",
    "print(\"✅ Predictions saved to predictions.txt\")\n"
   ]
  },
  {
   "cell_type": "code",
   "execution_count": 12,
   "id": "28d43873-493a-497b-baad-965fd3d40011",
   "metadata": {},
   "outputs": [
    {
     "name": "stdout",
     "output_type": "stream",
     "text": [
      "✅ Loaded 54200 true test labels.\n"
     ]
    }
   ],
   "source": [
    "# Load actual test genres\n",
    "true_labels = []\n",
    "\n",
    "with open(\"test_data_solution.txt\", \"r\", encoding=\"utf-8\") as file:\n",
    "    for line in file:\n",
    "        true_labels.append(line.strip())\n",
    "\n",
    "print(\"✅ Loaded\", len(true_labels), \"true test labels.\")\n"
   ]
  },
  {
   "cell_type": "code",
   "execution_count": 3,
   "id": "efd967c3-9f59-4185-8573-afbafb665854",
   "metadata": {},
   "outputs": [
    {
     "name": "stdout",
     "output_type": "stream",
     "text": [
      "✅ Loaded 54200 predicted genres.\n",
      "Example predictions: ['short', 'drama', 'documentary', 'drama', 'drama']\n"
     ]
    }
   ],
   "source": [
    "# Load saved predictions from prediction.txt\n",
    "with open(\"predictions.txt\", \"r\", encoding=\"utf-8\") as file:\n",
    "    predicted_genres = [line.strip() for line in file if line.strip()]\n",
    "\n",
    "print(\"✅ Loaded\", len(predicted_genres), \"predicted genres.\")\n",
    "print(\"Example predictions:\", predicted_genres[:5])\n"
   ]
  },
  {
   "cell_type": "code",
   "execution_count": 6,
   "id": "d5e30c8c-68b9-4bf9-aa7e-e141447445a9",
   "metadata": {},
   "outputs": [
    {
     "name": "stdout",
     "output_type": "stream",
     "text": [
      "✅ Loaded 54200 true labels.\n",
      "Example true labels: [\"1 ::: Edgar's Lunch (1998) ::: thriller ::: L.R. Brane loves his life - his car, his apartment, his job, but especially his girlfriend, Vespa. One day while showering, Vespa runs out of shampoo. L.R. runs across the street to a convenience store to buy some more, a quick trip of no more than a few minutes. When he returns, Vespa is gone and every trace of her existence has been wiped out. L.R.'s life becomes a tortured existence as one strange event after another occurs to confirm in his mind that a conspiracy is working against his finding Vespa.\", '2 ::: La guerra de papá (1977) ::: comedy ::: Spain, March 1964: Quico is a very naughty child of three belonging to a wealthy middle-class family. Since Cristina\\'s birth, he feels he has lost the privileged position of \"prince\" of the house for his eight months old sister. So, with his brother Juan, who is eight years old and is quite disobedient, spend their time committing prank after prank, causing the resulting anger of his mother, the nanny and the old housemaid. The rest of the family members are two much older brothers, his resigned mother and a retrograde father of authoritarian ideas. But many years have passed, and the civil war that won the despot Don Pablo is simply for their children \"Dad\\'s war\".', \"3 ::: Off the Beaten Track (2010) ::: documentary ::: One year in the life of Albin and his family of shepherds in the North of Transylvania. In direct cinema style, this documentary follows their day to day routines, and their struggle to adapt to a new world where traditions are gradually replaced by modern values. Since joining the EU, Romania has been facing, like several other Eastern European countries, the pressure of modern values, introducing in farmer's lives the cruel notion of competition, the temptation of migrating to the higher salaries abroad, and the marginalization of locally produced food against industrial products.\", \"4 ::: Meu Amigo Hindu (2015) ::: drama ::: His father has died, he hasn't spoken with his brother for about 10 years and has a serious cancer. Diego is a talented film director with difficulty to deal with his sickness, which is making him lose his friends and family. His best friend and doctor Ricardo gives him the news that he needs a bone marrow transplantation, otherwise he'll die. He gets married to a beautiful woman, Livia, just before going to Seattle to get treatment. There, he undergoes numerous medical procedures. During treatment, he meets an Hindu boy, with whom he plays and whom he tells amazing stories. Odds are against him and when stakes are the highest, Diego gets a visit from a very uncommon man.\", \"5 ::: Er nu zhai (1955) ::: drama ::: Before he was known internationally as a martial arts superstar, Bruce Lee had appeared in a handful of Hong Kong films as a child star in the 1940s/50s. One of these early films was The More the Merrier (1955), a.k.a. We Owe it to Our Children from the Union Film Enterprise, a family melodrama written and directed by renowned filmmaker Chin Chien (My Intimate Partners). Featuring the 14-year-old Bruce Lee and future Cantonese Opera star Yuen Siu Fai, the B&W film revolves around accountant Ming (played by Cheung Wood Yau) and his wife (Tsi Lo Lin) who suffers a miscarriage in an car accident. The couple decides to adopt a baby girl, not knowing that she's the daughter given up by Ming's poor co-worker who struggles to feed a bunch of kids. Bruce Lee plays the slacker son of the landlord (Ko Lo Chuen).\"]\n"
     ]
    }
   ],
   "source": [
    "# Reload the true labels from test_data_solution.txt\n",
    "with open(\"test_data_solution.txt\", \"r\", encoding=\"utf-8\") as file:\n",
    "    true_labels = [line.strip() for line in file if line.strip()]\n",
    "\n",
    "print(\"✅ Loaded\", len(true_labels), \"true labels.\")\n",
    "print(\"Example true labels:\", true_labels[:5])\n"
   ]
  },
  {
   "cell_type": "code",
   "execution_count": 8,
   "id": "28a85506-26f9-4d56-ab3f-2fd9b98d8952",
   "metadata": {},
   "outputs": [
    {
     "name": "stdout",
     "output_type": "stream",
     "text": [
      "✅ Extracted 54200 clean genres.\n",
      "Example genres: ['thriller', 'comedy', 'documentary', 'drama', 'drama']\n"
     ]
    }
   ],
   "source": [
    "# Extract the genre from the raw true label lines\n",
    "clean_true_labels = []\n",
    "for line in true_labels:\n",
    "    parts = line.split(\":::\")\n",
    "    if len(parts) >= 3:\n",
    "        genre = parts[2].strip()\n",
    "        clean_true_labels.append(genre)\n",
    "\n",
    "print(\"✅ Extracted\", len(clean_true_labels), \"clean genres.\")\n",
    "print(\"Example genres:\", clean_true_labels[:5])\n"
   ]
  },
  {
   "cell_type": "code",
   "execution_count": 9,
   "id": "fa7c1856-0f6f-40cd-8902-8a709363ad00",
   "metadata": {},
   "outputs": [
    {
     "name": "stdout",
     "output_type": "stream",
     "text": [
      "✅ Sample Accuracy (first 5000): 59.26%\n"
     ]
    }
   ],
   "source": [
    "#Accuracy Check\n",
    "from sklearn.metrics import accuracy_score\n",
    "\n",
    "# Sample accuracy on first 5000\n",
    "sample_true = clean_true_labels[:5000]\n",
    "sample_pred = predicted_genres[:5000]\n",
    "\n",
    "accuracy = accuracy_score(sample_true, sample_pred)\n",
    "print(f\"✅ Sample Accuracy (first 5000): {accuracy * 100:.2f}%\")"
   ]
  },
  {
   "cell_type": "code",
   "execution_count": 11,
   "id": "c08ef36f-558c-4b5a-b720-0e88910179e5",
   "metadata": {},
   "outputs": [
    {
     "name": "stdout",
     "output_type": "stream",
     "text": [
      "✅ Sample Accuracy (first 10000): 57.98%\n"
     ]
    }
   ],
   "source": [
    "# accuracy on 10,000 \n",
    "sample_true = clean_true_labels[:10000]\n",
    "sample_pred = predicted_genres[:10000]\n",
    "\n",
    "accuracy = accuracy_score(sample_true, sample_pred)\n",
    "print(f\"✅ Sample Accuracy (first 10000): {accuracy * 100:.2f}%\")\n"
   ]
  },
  {
   "cell_type": "code",
   "execution_count": 12,
   "id": "e717ea7b-4d7b-4fdb-8ed6-91282770b42e",
   "metadata": {},
   "outputs": [
    {
     "name": "stdout",
     "output_type": "stream",
     "text": [
      "✅ Predictions saved to final_predictions.txt\n"
     ]
    }
   ],
   "source": [
    "#Save Final Predictions to File\n",
    "with open(\"final_predictions.txt\", \"w\", encoding=\"utf-8\") as f:\n",
    "    for genre in predicted_genres:\n",
    "        f.write(genre + \"\\n\")\n",
    "\n",
    "print(\"✅ Predictions saved to final_predictions.txt\")\n"
   ]
  },
  {
   "cell_type": "code",
   "execution_count": null,
   "id": "4582ea84-b561-4150-95c6-41399abcd18a",
   "metadata": {},
   "outputs": [],
   "source": []
  }
 ],
 "metadata": {
  "kernelspec": {
   "display_name": "Python 3 (ipykernel)",
   "language": "python",
   "name": "python3"
  },
  "language_info": {
   "codemirror_mode": {
    "name": "ipython",
    "version": 3
   },
   "file_extension": ".py",
   "mimetype": "text/x-python",
   "name": "python",
   "nbconvert_exporter": "python",
   "pygments_lexer": "ipython3",
   "version": "3.12.4"
  }
 },
 "nbformat": 4,
 "nbformat_minor": 5
}
